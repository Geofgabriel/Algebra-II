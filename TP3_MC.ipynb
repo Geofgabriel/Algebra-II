{
  "nbformat": 4,
  "nbformat_minor": 0,
  "metadata": {
    "colab": {
      "name": "MC.ipynb",
      "provenance": [],
      "collapsed_sections": []
    },
    "kernelspec": {
      "name": "python3",
      "display_name": "Python 3"
    }
  },
  "cells": [
    {
      "cell_type": "markdown",
      "metadata": {
        "id": "aXNpQJVp7r20",
        "colab_type": "text"
      },
      "source": [
        "Si las columnas de la matriz A son linealmente independientes podemos hallar \n",
        "la solución por mínimos cuadrados de la ecuación *Ax=v*. En el código siguiente se encuentra esta solución y se calcula el error cuadrático (ejercicio 3.22).\n",
        "\n"
      ]
    },
    {
      "cell_type": "code",
      "metadata": {
        "id": "kXE0Zlyk7OUV",
        "colab_type": "code",
        "colab": {
          "base_uri": "https://localhost:8080/",
          "height": 51
        },
        "outputId": "639f325a-17af-4501-8527-c1488343c474"
      },
      "source": [
        "import numpy as np\n",
        "\n",
        "#Se define la matriz A y vector v\n",
        "A = np.array(([1,0],[0,1],[1,1]))\n",
        "v = np.array([0,0,1])\n",
        "\n",
        "# Se busca la solución por mínimos cuadrados\n",
        "\n",
        "x_hat = np.zeros(3)\n",
        "m = np.linalg.inv(np.matmul(A.transpose(),A))\n",
        "r = np.matmul(A.transpose(),v)\n",
        "\n",
        "x_hat = np.matmul(m,r) #solución\n",
        "\n",
        "print('La solución por mínimos cuadrados es:')\n",
        "print(x_hat)"
      ],
      "execution_count": 4,
      "outputs": [
        {
          "output_type": "stream",
          "text": [
            "La solución por mínimos cuadrados es:\n",
            "[0.33333333 0.33333333]\n"
          ],
          "name": "stdout"
        }
      ]
    },
    {
      "cell_type": "code",
      "metadata": {
        "id": "xvz7srmvBqps",
        "colab_type": "code",
        "colab": {
          "base_uri": "https://localhost:8080/",
          "height": 51
        },
        "outputId": "84e76d55-3936-4bbb-f5b2-b244d485e936"
      },
      "source": [
        "print('alculamos el error cuadrático')\n",
        "\n",
        "error = np.linalg.norm(v-np.matmul(A,x_hat))**2\n",
        "print(error)"
      ],
      "execution_count": 5,
      "outputs": [
        {
          "output_type": "stream",
          "text": [
            "alculamos el error cuadrático\n",
            "0.3333333333333334\n"
          ],
          "name": "stdout"
        }
      ]
    }
  ]
}